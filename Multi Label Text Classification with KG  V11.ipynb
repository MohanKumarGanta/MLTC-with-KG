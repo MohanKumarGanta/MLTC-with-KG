{
 "cells": [
  {
   "cell_type": "code",
   "execution_count": 3,
   "id": "7a406ae0",
   "metadata": {},
   "outputs": [],
   "source": [
    "#IMPORTING REQUIRED LIBRARIES\n",
    "import numpy as np\n",
    "import pandas as pd\n",
    "import itertools\n",
    "import os\n",
    "import re\n",
    "from sklearn.model_selection import train_test_split\n",
    "from sklearn.feature_extraction.text import TfidfVectorizer\n",
    "from sklearn.feature_extraction.text import CountVectorizer\n",
    "from sklearn.metrics import accuracy_score, confusion_matrix\n",
    "from warnings import filterwarnings\n",
    "filterwarnings('ignore')\n",
    "from sklearn import metrics\n",
    "from sklearn.metrics import classification_report"
   ]
  },
  {
   "cell_type": "markdown",
   "id": "1489cd30",
   "metadata": {},
   "source": [
    "### Reading file from Local"
   ]
  },
  {
   "cell_type": "code",
   "execution_count": 4,
   "id": "f8b26f37",
   "metadata": {},
   "outputs": [],
   "source": [
    "# READING FILE PATH\n",
    "#import os\n",
    "os.chdir(\"C:\\\\Users\\\\acer\\\\MLP\")"
   ]
  },
  {
   "cell_type": "code",
   "execution_count": 5,
   "id": "5b3af2db",
   "metadata": {},
   "outputs": [],
   "source": [
    "#READING FILE\n",
    "data = pd.read_csv('train.csv')"
   ]
  },
  {
   "cell_type": "code",
   "execution_count": 5,
   "id": "76233e4a",
   "metadata": {},
   "outputs": [],
   "source": [
    "#data"
   ]
  },
  {
   "cell_type": "markdown",
   "id": "329718fe",
   "metadata": {},
   "source": [
    "### Preprocessing"
   ]
  },
  {
   "cell_type": "code",
   "execution_count": 6,
   "id": "88a3de29",
   "metadata": {},
   "outputs": [
    {
     "name": "stdout",
     "output_type": "stream",
     "text": [
      "Percentage of unlabelled comments is  0.0\n"
     ]
    }
   ],
   "source": [
    "#Verifying Data for No Value in Labels\n",
    "unlabelled_in_all = data[(data['Computer Science']!=1) & (data['Physics']!=1) & (data['Mathematics']!=1) & \n",
    "                            (data['Statistics']!=1) & (data['Quantitative Biology']!=1) & (data['Quantitative Finance']!=1)]\n",
    "print('Percentage of unlabelled comments is ', len(unlabelled_in_all)/len(data)*100)"
   ]
  },
  {
   "cell_type": "code",
   "execution_count": 7,
   "id": "dd6dac04",
   "metadata": {},
   "outputs": [
    {
     "data": {
      "text/plain": [
       "0"
      ]
     },
     "execution_count": 7,
     "metadata": {},
     "output_type": "execute_result"
    }
   ],
   "source": [
    "#Verifying Data for No Value in ABSTRACT\n",
    "no_comment = data[data['ABSTRACT'].isnull()]\n",
    "len(no_comment)"
   ]
  },
  {
   "cell_type": "code",
   "execution_count": 8,
   "id": "1e69d1db",
   "metadata": {},
   "outputs": [
    {
     "data": {
      "text/plain": [
       "0"
      ]
     },
     "execution_count": 8,
     "metadata": {},
     "output_type": "execute_result"
    }
   ],
   "source": [
    "#Verifying Data for No Value in TITLE\n",
    "no_comment = data[data['TITLE'].isnull()]\n",
    "len(no_comment)"
   ]
  },
  {
   "cell_type": "code",
   "execution_count": 9,
   "id": "b548599e",
   "metadata": {},
   "outputs": [],
   "source": [
    "#Combinig the Title and Abstact to create new column for the classes prediction\n",
    "data['TITLE_ABSTRACT']=data.TITLE+\" \"+data.ABSTRACT"
   ]
  },
  {
   "cell_type": "code",
   "execution_count": 10,
   "id": "d0aa12c7",
   "metadata": {},
   "outputs": [],
   "source": [
    "#data['TITLE_ABSTRACT']"
   ]
  },
  {
   "cell_type": "code",
   "execution_count": 10,
   "id": "7afdd26e",
   "metadata": {},
   "outputs": [],
   "source": [
    "#Replacing words to their original formats\n",
    "def clean_text(text):\n",
    "    text = text.lower()\n",
    "    text = re.sub(r\"what's\", \"what is \", text)\n",
    "    text = re.sub(r\"\\'s\", \" \", text)\n",
    "    text = re.sub(r\"\\'ve\", \" have \", text)\n",
    "    text = re.sub(r\"can't\", \"cannot \", text)\n",
    "    text = re.sub(r\"n't\", \" not \", text)\n",
    "    text = re.sub(r\"i'm\", \"i am \", text)\n",
    "    text = re.sub(r\"\\'re\", \" are \", text)\n",
    "    text = re.sub(r\"\\'d\", \" would \", text)\n",
    "    text = re.sub(r\"\\'ll\", \" will \", text)\n",
    "    text = re.sub(r\"\\'scuse\", \" excuse \", text)\n",
    "    text = re.sub('\\W', ' ', text)\n",
    "    text = re.sub('\\s+', ' ', text)\n",
    "    text = text.strip(' ')\n",
    "    return text"
   ]
  },
  {
   "cell_type": "code",
   "execution_count": 11,
   "id": "d0b57fd0",
   "metadata": {},
   "outputs": [],
   "source": [
    "#Fitting ABSTRACT into Replacing Words Function\n",
    "data['TITLE_ABSTRACT'] = data['TITLE_ABSTRACT'].map(lambda com : clean_text(com))"
   ]
  },
  {
   "cell_type": "code",
   "execution_count": 12,
   "id": "83ccc44d",
   "metadata": {},
   "outputs": [],
   "source": [
    "def preprocess_text(sen):\n",
    "    # Remove punctuations and numbers\n",
    "    sentence = re.sub('[^a-zA-Z]', ' ', sen)\n",
    "\n",
    "    # Single character removal\n",
    "    sentence = re.sub(r\"\\s+[a-zA-Z]\\s+\", ' ', sentence)\n",
    "\n",
    "    # Removing multiple spaces\n",
    "    sentence = re.sub(r'\\s+', ' ', sentence)\n",
    "\n",
    "    return sentence"
   ]
  },
  {
   "cell_type": "code",
   "execution_count": 13,
   "id": "7345c0ee",
   "metadata": {},
   "outputs": [],
   "source": [
    "#Importing Libraries for Stopwords and Stemming\n",
    "import nltk\n",
    "from nltk.corpus import stopwords\n",
    "from nltk.stem.snowball import SnowballStemmer\n",
    "\n",
    "import sys\n",
    "import warnings\n",
    "\n",
    "if not sys.warnoptions:\n",
    "    warnings.simplefilter(\"ignore\")"
   ]
  },
  {
   "cell_type": "code",
   "execution_count": 14,
   "id": "b0fdb0e6",
   "metadata": {},
   "outputs": [],
   "source": [
    "#def cleanHtml(sentence):\n",
    "#    cleanr = re.compile('<.*?>')\n",
    "#    cleantext = re.sub(cleanr, ' ', str(sentence))\n",
    "#    return cleantext\n",
    "\n",
    "#function to clean the word of any special characters\n",
    "\n",
    "def cleanPunc(sentence): \n",
    "    cleaned = re.sub(r'[?|!|\\'|\"|#]',r'',sentence)\n",
    "    cleaned = re.sub(r'[.|,|)|(|\\|/]',r' ',cleaned)\n",
    "    cleaned = cleaned.strip()\n",
    "    cleaned = cleaned.replace(\"\\n\",\" \")\n",
    "    return cleaned\n",
    "\n",
    "\n",
    "def keepAlpha(sentence):\n",
    "    alpha_sent = \"\"\n",
    "    for word in sentence.split():\n",
    "        alpha_word = re.sub('[^a-z A-Z]+', ' ', word)\n",
    "        alpha_sent += alpha_word\n",
    "        alpha_sent += \" \"\n",
    "    alpha_sent = alpha_sent.strip()\n",
    "    return alpha_sent"
   ]
  },
  {
   "cell_type": "code",
   "execution_count": 15,
   "id": "c823a45f",
   "metadata": {},
   "outputs": [],
   "source": [
    "#Applying more cleaning methods for converting text to lower, cleaning puctuations\n",
    "data['TITLE_ABSTRACT'] = data['TITLE_ABSTRACT'].str.lower()\n",
    "#data['ABSTRACT'] = data['ABSTRACT'].apply(cleanHtml)\n",
    "data['TITLE_ABSTRACT'] = data['TITLE_ABSTRACT'].apply(cleanPunc)\n",
    "data['TITLE_ABSTRACT'] = data['TITLE_ABSTRACT'].apply(keepAlpha)\n",
    "#data.head()"
   ]
  },
  {
   "cell_type": "code",
   "execution_count": 16,
   "id": "0b7cea72",
   "metadata": {},
   "outputs": [],
   "source": [
    "#Stopwords Removal\n",
    "#import nltk\n",
    "#nltk.download('stopwords')\n",
    "stop_words = set(stopwords.words('english'))\n",
    "stop_words.update(['zero','one','two','three','four','five','six','seven','eight','nine','ten','may','also','across','among','beside','however','yet','within'])\n",
    "re_stop_words = re.compile(r\"\\b(\" + \"|\".join(stop_words) + \")\\\\W\", re.I)\n",
    "def removeStopWords(sentence):\n",
    "    global re_stop_words\n",
    "    return re_stop_words.sub(\" \", sentence)\n",
    "\n",
    "#calling methods for removing stopwords\n",
    "\n",
    "data['TITLE_ABSTRACT'] = data['TITLE_ABSTRACT'].apply(removeStopWords)\n",
    "#data.head()"
   ]
  },
  {
   "cell_type": "code",
   "execution_count": 17,
   "id": "0944848e",
   "metadata": {},
   "outputs": [],
   "source": [
    "#STEMMING ABSTRACT\n",
    "stemmer = SnowballStemmer(\"english\")\n",
    "def stemming(sentence):\n",
    "    stemSentence = \"\"\n",
    "    for word in sentence.split():\n",
    "        stem = stemmer.stem(word)\n",
    "        stemSentence += stem\n",
    "        stemSentence += \" \"\n",
    "    stemSentence = stemSentence.strip()\n",
    "    return stemSentence\n",
    "\n",
    "#calling methods for Stemming\n",
    "\n",
    "data['TITLE_ABSTRACT'] = data['TITLE_ABSTRACT'].apply(stemming)\n",
    "#data.head()"
   ]
  },
  {
   "cell_type": "code",
   "execution_count": 50,
   "id": "b7a44331",
   "metadata": {},
   "outputs": [],
   "source": [
    "#Crearing lists with X and Y for further split\n",
    "\n",
    "X = []\n",
    "sentences = list(data[\"TITLE_ABSTRACT\"])\n",
    "for sen in sentences:\n",
    "    X.append(preprocess_text(sen))\n",
    "\n",
    "y = data[[\"Computer Science\", \"Physics\", \"Mathematics\", \"Statistics\", \"Quantitative Biology\", \"Quantitative Finance\"]]"
   ]
  },
  {
   "cell_type": "code",
   "execution_count": 70,
   "id": "ce0db906",
   "metadata": {},
   "outputs": [],
   "source": [
    "# Slicing data for testing the model\n",
    "X = X[:5000]\n",
    "y = y[:5000]"
   ]
  },
  {
   "cell_type": "code",
   "execution_count": 81,
   "id": "229da4d1",
   "metadata": {},
   "outputs": [],
   "source": [
    "#pip install tax2vec"
   ]
  },
  {
   "cell_type": "code",
   "execution_count": 19,
   "id": "fafbf57b",
   "metadata": {},
   "outputs": [],
   "source": [
    "#importing Tensor Flow and Keras for Nueral Network models\n",
    "\n",
    "import tensorflow as tf\n",
    "from tensorflow.keras.models import Sequential, Model\n",
    "from tensorflow.keras.layers import Dense, LSTM, Activation, Embedding, GRU, Input, SimpleRNN\n",
    "from keras.preprocessing.text import Tokenizer\n",
    "from keras.preprocessing.sequence import pad_sequences\n",
    "from keras.callbacks import EarlyStopping\n",
    "from numpy import array, asarray, zeros"
   ]
  },
  {
   "cell_type": "code",
   "execution_count": 20,
   "id": "3d054057",
   "metadata": {},
   "outputs": [],
   "source": [
    "#Converting the words to Tokens for passing them to Models\n",
    "\n",
    "tokenizer = Tokenizer(num_words=5000)\n",
    "tokenizer.fit_on_texts(X)\n",
    "X1 = tokenizer.texts_to_sequences(X)\n",
    "vocab_size = len(tokenizer.word_index) + 1\n",
    "maxlen = 778\n",
    "\n",
    "#Padding spaces at the end of the text\n",
    "\n",
    "X1 = pad_sequences(X1, maxlen=maxlen)"
   ]
  },
  {
   "cell_type": "markdown",
   "id": "012c4c5b",
   "metadata": {},
   "source": [
    "### Tax2Vec Module Calling "
   ]
  },
  {
   "cell_type": "code",
   "execution_count": 21,
   "id": "5d33048d",
   "metadata": {},
   "outputs": [
    {
     "name": "stderr",
     "output_type": "stream",
     "text": [
      "11-Oct-21 21:26:32 - Using rarest_terms heuristic.\n",
      "11-Oct-21 21:26:32 - Constructing the taxonomy tree..\n",
      "11-Oct-21 21:26:42 - Constructing local taxonomy...\n",
      "11-Oct-21 21:27:23 - Looking up hypernyms using knowledge graph\n",
      "11-Oct-21 21:45:19 - Selecting semantic terms..\n",
      "11-Oct-21 21:46:49 - Saving hypernym distribution\n",
      "11-Oct-21 21:46:49 - Folder structure insufficient!\n",
      "11-Oct-21 21:47:02 - Constructing feature vectors..\n"
     ]
    },
    {
     "name": "stdout",
     "output_type": "stream",
     "text": [
      "... Computing weights for 3 semantic vectors ...\n"
     ]
    }
   ],
   "source": [
    "#Importing Tax2Vec and passing the data to get the hypernyms using Knowledge Graph\n",
    "#We can use the values like closeness_centrality,mutual_info and pagerank values for heuristic parameter\n",
    "#refined.txt can be downloaded from the link: https://github.com/SkBlaz/tax2vec/tree/master/data-concept\n",
    "\n",
    "import tax2vec as t2v\n",
    "from tax2vec.preprocessing import *\n",
    "from tax2vec.models import *\n",
    "tax2vec_instance = t2v.tax2vec(max_features=3, num_cpu=8, heuristic=\"rarest_terms\", disambiguation_window=2, start_term_depth=3, knowledge_graph=True, mode=\"index_word\", simple_clean=True, hyp=\"all\", path=\"refined.txt\")\n",
    "X2 = tax2vec_instance.fit_transform(X)\n",
    "X2 = X2.A"
   ]
  },
  {
   "cell_type": "code",
   "execution_count": 23,
   "id": "0c9c913a",
   "metadata": {},
   "outputs": [
    {
     "name": "stdout",
     "output_type": "stream",
     "text": [
      "(20972, 781)\n",
      "(20972, 6)\n"
     ]
    }
   ],
   "source": [
    "#X = X1    #Uncomment this line and comment the line below for runnig models without tax2vec\n",
    "\n",
    "#Combing the New Features from Tax2vec with the input word tokens\n",
    "\n",
    "X = np.concatenate((X1, X2), axis=1)\n",
    "print(X.shape)\n",
    "print(y.shape)"
   ]
  },
  {
   "cell_type": "code",
   "execution_count": 176,
   "id": "1df3581d",
   "metadata": {},
   "outputs": [],
   "source": [
    "#print(X2)"
   ]
  },
  {
   "cell_type": "code",
   "execution_count": 24,
   "id": "d1177b7f",
   "metadata": {},
   "outputs": [],
   "source": [
    "#Creating embedding vectors using the glove file.\n",
    "\n",
    "# Gloev file can be downloaded from this link: https://www.kaggle.com/danielwillgeorge/glove6b100dtxt\n",
    "\n",
    "word_embeddings = {}\n",
    "with open('glove.6B.100d.txt', encoding=\"utf8\") as f:\n",
    "    for line in f:\n",
    "        values = line.split()\n",
    "        word_key = values[0]\n",
    "        word_vector = np.array(values[1:], dtype='float32')\n",
    "        word_embeddings[word_key] = word_vector\n",
    "word_index = tokenizer.word_index\n",
    "num_words = min(vocab_size, len(word_index)+1)\n",
    "embedding_matrix = np.zeros((num_words, 100))\n",
    "for word, idx in word_index.items():\n",
    "    if idx < vocab_size:\n",
    "        embedding_vector = word_embeddings.get(word)\n",
    "        if embedding_vector is not None:\n",
    "            embedding_matrix[idx] = embedding_vector"
   ]
  },
  {
   "cell_type": "code",
   "execution_count": 25,
   "id": "f3a60195",
   "metadata": {},
   "outputs": [],
   "source": [
    "#Splitting the dataset to train and test with 20 percent data for testing\n",
    "\n",
    "X_train, X_test, y_train, y_test = train_test_split(X, y, test_size=0.20, random_state=42)"
   ]
  },
  {
   "cell_type": "code",
   "execution_count": 26,
   "id": "33962830",
   "metadata": {},
   "outputs": [
    {
     "name": "stdout",
     "output_type": "stream",
     "text": [
      "shape of the Training X data: (16777, 781)\n",
      "shape of the targets: (16777, 6)\n",
      "shape of the embedding_matrix: (35402, 100)\n"
     ]
    }
   ],
   "source": [
    "print(f'shape of the Training X data: {X_train.shape}')\n",
    "print(f'shape of the targets: {y_train.shape}')\n",
    "print(f'shape of the embedding_matrix: {embedding_matrix.shape}')"
   ]
  },
  {
   "cell_type": "markdown",
   "id": "865f61cf",
   "metadata": {},
   "source": [
    "### LSTM"
   ]
  },
  {
   "cell_type": "code",
   "execution_count": 25,
   "id": "24f09f21",
   "metadata": {},
   "outputs": [],
   "source": [
    "#Deffining embedding layer for building LSTM Model. Change the input size to input length specified in tokenization before running model without tax2vec\n",
    "\n",
    "embedding_layer = tf.keras.layers.Embedding(input_dim=num_words, output_dim=100, weights=[embedding_matrix], input_length=781, trainable=False)\n",
    "input_LSTM = tf.keras.Input(shape=(781,))"
   ]
  },
  {
   "cell_type": "code",
   "execution_count": 26,
   "id": "97b0c023",
   "metadata": {},
   "outputs": [],
   "source": [
    "#Building LSTM Model wuth Activation layer as Relu and Sigmoid\n",
    "\n",
    "model_LSTM = embedding_layer(input_LSTM)\n",
    "model_LSTM = tf.keras.layers.Bidirectional(tf.keras.layers.LSTM(100, return_sequences=True))(model_LSTM)\n",
    "model_LSTM = tf.keras.layers.Bidirectional(tf.keras.layers.LSTM(100, return_sequences=True))(model_LSTM)\n",
    "model_LSTM = tf.keras.layers.GlobalMaxPooling1D()(model_LSTM)\n",
    "model_LSTM = tf.keras.layers.Dense(64, activation='relu')(model_LSTM)\n",
    "model_LSTM = tf.keras.layers.Dense(128, activation='relu')(model_LSTM)\n",
    "model_LSTM = tf.keras.layers.Dropout(.2)(model_LSTM)\n",
    "model_LSTM = tf.keras.layers.Dense(128, activation='relu')(model_LSTM)\n",
    "output_LSTM = tf.keras.layers.Dense(6, activation='sigmoid')(model_LSTM)\n",
    "model_LSTM = tf.keras.Model(inputs=input_LSTM, outputs=output_LSTM)\n",
    "model_LSTM.compile(loss='binary_crossentropy', optimizer='adam', metrics=['accuracy'])"
   ]
  },
  {
   "cell_type": "code",
   "execution_count": 27,
   "id": "fc3df773",
   "metadata": {},
   "outputs": [
    {
     "name": "stdout",
     "output_type": "stream",
     "text": [
      "Model: \"model\"\n",
      "_________________________________________________________________\n",
      "Layer (type)                 Output Shape              Param #   \n",
      "=================================================================\n",
      "input_1 (InputLayer)         [(None, 781)]             0         \n",
      "_________________________________________________________________\n",
      "embedding (Embedding)        (None, 781, 100)          3540200   \n",
      "_________________________________________________________________\n",
      "bidirectional (Bidirectional (None, 781, 200)          160800    \n",
      "_________________________________________________________________\n",
      "bidirectional_1 (Bidirection (None, 781, 200)          240800    \n",
      "_________________________________________________________________\n",
      "global_max_pooling1d (Global (None, 200)               0         \n",
      "_________________________________________________________________\n",
      "dense (Dense)                (None, 64)                12864     \n",
      "_________________________________________________________________\n",
      "dense_1 (Dense)              (None, 128)               8320      \n",
      "_________________________________________________________________\n",
      "dropout (Dropout)            (None, 128)               0         \n",
      "_________________________________________________________________\n",
      "dense_2 (Dense)              (None, 128)               16512     \n",
      "_________________________________________________________________\n",
      "dense_3 (Dense)              (None, 6)                 774       \n",
      "=================================================================\n",
      "Total params: 3,980,270\n",
      "Trainable params: 440,070\n",
      "Non-trainable params: 3,540,200\n",
      "_________________________________________________________________\n",
      "None\n"
     ]
    }
   ],
   "source": [
    "print(model_LSTM.summary())"
   ]
  },
  {
   "cell_type": "code",
   "execution_count": 120,
   "id": "0fef802b",
   "metadata": {},
   "outputs": [
    {
     "name": "stdout",
     "output_type": "stream",
     "text": [
      "Epoch 1/3\n",
      "84/84 [==============================] - 5952s 71s/step - loss: 0.4042 - accuracy: 0.5137 - val_loss: 0.2814 - val_accuracy: 0.7321\n",
      "Epoch 2/3\n",
      "84/84 [==============================] - 6127s 73s/step - loss: 0.2794 - accuracy: 0.7291 - val_loss: 0.2642 - val_accuracy: 0.7455\n",
      "Epoch 3/3\n",
      "84/84 [==============================] - 6125s 73s/step - loss: 0.2565 - accuracy: 0.7341 - val_loss: 0.2501 - val_accuracy: 0.7195\n"
     ]
    }
   ],
   "source": [
    "#Fitting the model\n",
    "\n",
    "history_LSTM = model_LSTM.fit(X_train, y_train, batch_size=100, epochs= 3, validation_split=0.5) #without tax2vec"
   ]
  },
  {
   "cell_type": "code",
   "execution_count": 28,
   "id": "7ec318dc",
   "metadata": {},
   "outputs": [
    {
     "name": "stdout",
     "output_type": "stream",
     "text": [
      "Epoch 1/3\n",
      "84/84 [==============================] - 4828s 57s/step - loss: 0.3944 - accuracy: 0.5432 - val_loss: 0.2885 - val_accuracy: 0.7219\n",
      "Epoch 2/3\n",
      "84/84 [==============================] - 4972s 59s/step - loss: 0.2822 - accuracy: 0.7260 - val_loss: 0.2675 - val_accuracy: 0.7358\n",
      "Epoch 3/3\n",
      "84/84 [==============================] - 5123s 61s/step - loss: 0.2631 - accuracy: 0.7353 - val_loss: 0.2536 - val_accuracy: 0.7453\n"
     ]
    }
   ],
   "source": [
    "#Fitting the model\n",
    "\n",
    "history_LSTM = model_LSTM.fit(X_train, y_train, batch_size=100, epochs= 3, validation_split=0.5) #Rarest Terms with tax2vec for full data and KG = True"
   ]
  },
  {
   "cell_type": "code",
   "execution_count": 29,
   "id": "4d76832f",
   "metadata": {},
   "outputs": [],
   "source": [
    "#Running the model for Test Data\n",
    "\n",
    "predicted_output_LSTM = model_LSTM.predict(X_test)"
   ]
  },
  {
   "cell_type": "code",
   "execution_count": 30,
   "id": "a019b1fd",
   "metadata": {},
   "outputs": [],
   "source": [
    "#Converting the output to data frame \n",
    "\n",
    "predicted_output_LSTM = pd.DataFrame(predicted_output_LSTM)\n",
    "predicted_output_LSTM.columns = ['Computer Science', 'Physics', 'Mathematics', 'Statistics', 'Quantitative Biology', 'Quantitative Finance']"
   ]
  },
  {
   "cell_type": "code",
   "execution_count": 123,
   "id": "32c7810a",
   "metadata": {},
   "outputs": [
    {
     "data": {
      "text/html": [
       "<div>\n",
       "<style scoped>\n",
       "    .dataframe tbody tr th:only-of-type {\n",
       "        vertical-align: middle;\n",
       "    }\n",
       "\n",
       "    .dataframe tbody tr th {\n",
       "        vertical-align: top;\n",
       "    }\n",
       "\n",
       "    .dataframe thead th {\n",
       "        text-align: right;\n",
       "    }\n",
       "</style>\n",
       "<table border=\"1\" class=\"dataframe\">\n",
       "  <thead>\n",
       "    <tr style=\"text-align: right;\">\n",
       "      <th></th>\n",
       "      <th>Computer Science</th>\n",
       "      <th>Physics</th>\n",
       "      <th>Mathematics</th>\n",
       "      <th>Statistics</th>\n",
       "      <th>Quantitative Biology</th>\n",
       "      <th>Quantitative Finance</th>\n",
       "    </tr>\n",
       "  </thead>\n",
       "  <tbody>\n",
       "    <tr>\n",
       "      <th>0</th>\n",
       "      <td>0.634572</td>\n",
       "      <td>0.107091</td>\n",
       "      <td>0.019861</td>\n",
       "      <td>0.494041</td>\n",
       "      <td>0.084276</td>\n",
       "      <td>0.013437</td>\n",
       "    </tr>\n",
       "    <tr>\n",
       "      <th>1</th>\n",
       "      <td>0.571306</td>\n",
       "      <td>0.279225</td>\n",
       "      <td>0.071898</td>\n",
       "      <td>0.219353</td>\n",
       "      <td>0.036678</td>\n",
       "      <td>0.011829</td>\n",
       "    </tr>\n",
       "    <tr>\n",
       "      <th>2</th>\n",
       "      <td>0.819896</td>\n",
       "      <td>0.053338</td>\n",
       "      <td>0.034325</td>\n",
       "      <td>0.319396</td>\n",
       "      <td>0.008858</td>\n",
       "      <td>0.002772</td>\n",
       "    </tr>\n",
       "    <tr>\n",
       "      <th>3</th>\n",
       "      <td>0.015471</td>\n",
       "      <td>0.960975</td>\n",
       "      <td>0.041821</td>\n",
       "      <td>0.005156</td>\n",
       "      <td>0.004168</td>\n",
       "      <td>0.000410</td>\n",
       "    </tr>\n",
       "    <tr>\n",
       "      <th>4</th>\n",
       "      <td>0.721151</td>\n",
       "      <td>0.014691</td>\n",
       "      <td>0.108521</td>\n",
       "      <td>0.674562</td>\n",
       "      <td>0.005486</td>\n",
       "      <td>0.003597</td>\n",
       "    </tr>\n",
       "    <tr>\n",
       "      <th>...</th>\n",
       "      <td>...</td>\n",
       "      <td>...</td>\n",
       "      <td>...</td>\n",
       "      <td>...</td>\n",
       "      <td>...</td>\n",
       "      <td>...</td>\n",
       "    </tr>\n",
       "    <tr>\n",
       "      <th>4190</th>\n",
       "      <td>0.807658</td>\n",
       "      <td>0.022510</td>\n",
       "      <td>0.114762</td>\n",
       "      <td>0.376054</td>\n",
       "      <td>0.003025</td>\n",
       "      <td>0.002136</td>\n",
       "    </tr>\n",
       "    <tr>\n",
       "      <th>4191</th>\n",
       "      <td>0.654040</td>\n",
       "      <td>0.123969</td>\n",
       "      <td>0.024980</td>\n",
       "      <td>0.450137</td>\n",
       "      <td>0.095094</td>\n",
       "      <td>0.015678</td>\n",
       "    </tr>\n",
       "    <tr>\n",
       "      <th>4192</th>\n",
       "      <td>0.024701</td>\n",
       "      <td>0.136459</td>\n",
       "      <td>0.917490</td>\n",
       "      <td>0.017412</td>\n",
       "      <td>0.000438</td>\n",
       "      <td>0.000849</td>\n",
       "    </tr>\n",
       "    <tr>\n",
       "      <th>4193</th>\n",
       "      <td>0.005799</td>\n",
       "      <td>0.990763</td>\n",
       "      <td>0.003441</td>\n",
       "      <td>0.001221</td>\n",
       "      <td>0.001683</td>\n",
       "      <td>0.000037</td>\n",
       "    </tr>\n",
       "    <tr>\n",
       "      <th>4194</th>\n",
       "      <td>0.919552</td>\n",
       "      <td>0.022396</td>\n",
       "      <td>0.014120</td>\n",
       "      <td>0.300047</td>\n",
       "      <td>0.004253</td>\n",
       "      <td>0.000915</td>\n",
       "    </tr>\n",
       "  </tbody>\n",
       "</table>\n",
       "<p>4195 rows × 6 columns</p>\n",
       "</div>"
      ],
      "text/plain": [
       "      Computer Science   Physics  Mathematics  Statistics  \\\n",
       "0             0.634572  0.107091     0.019861    0.494041   \n",
       "1             0.571306  0.279225     0.071898    0.219353   \n",
       "2             0.819896  0.053338     0.034325    0.319396   \n",
       "3             0.015471  0.960975     0.041821    0.005156   \n",
       "4             0.721151  0.014691     0.108521    0.674562   \n",
       "...                ...       ...          ...         ...   \n",
       "4190          0.807658  0.022510     0.114762    0.376054   \n",
       "4191          0.654040  0.123969     0.024980    0.450137   \n",
       "4192          0.024701  0.136459     0.917490    0.017412   \n",
       "4193          0.005799  0.990763     0.003441    0.001221   \n",
       "4194          0.919552  0.022396     0.014120    0.300047   \n",
       "\n",
       "      Quantitative Biology  Quantitative Finance  \n",
       "0                 0.084276              0.013437  \n",
       "1                 0.036678              0.011829  \n",
       "2                 0.008858              0.002772  \n",
       "3                 0.004168              0.000410  \n",
       "4                 0.005486              0.003597  \n",
       "...                    ...                   ...  \n",
       "4190              0.003025              0.002136  \n",
       "4191              0.095094              0.015678  \n",
       "4192              0.000438              0.000849  \n",
       "4193              0.001683              0.000037  \n",
       "4194              0.004253              0.000915  \n",
       "\n",
       "[4195 rows x 6 columns]"
      ]
     },
     "execution_count": 123,
     "metadata": {},
     "output_type": "execute_result"
    }
   ],
   "source": [
    "predicted_output_LSTM #without tax2vec"
   ]
  },
  {
   "cell_type": "code",
   "execution_count": 31,
   "id": "f03caebb",
   "metadata": {},
   "outputs": [
    {
     "data": {
      "text/html": [
       "<div>\n",
       "<style scoped>\n",
       "    .dataframe tbody tr th:only-of-type {\n",
       "        vertical-align: middle;\n",
       "    }\n",
       "\n",
       "    .dataframe tbody tr th {\n",
       "        vertical-align: top;\n",
       "    }\n",
       "\n",
       "    .dataframe thead th {\n",
       "        text-align: right;\n",
       "    }\n",
       "</style>\n",
       "<table border=\"1\" class=\"dataframe\">\n",
       "  <thead>\n",
       "    <tr style=\"text-align: right;\">\n",
       "      <th></th>\n",
       "      <th>Computer Science</th>\n",
       "      <th>Physics</th>\n",
       "      <th>Mathematics</th>\n",
       "      <th>Statistics</th>\n",
       "      <th>Quantitative Biology</th>\n",
       "      <th>Quantitative Finance</th>\n",
       "    </tr>\n",
       "  </thead>\n",
       "  <tbody>\n",
       "    <tr>\n",
       "      <th>0</th>\n",
       "      <td>0.758541</td>\n",
       "      <td>0.116572</td>\n",
       "      <td>0.031516</td>\n",
       "      <td>0.272788</td>\n",
       "      <td>0.064737</td>\n",
       "      <td>0.007393</td>\n",
       "    </tr>\n",
       "    <tr>\n",
       "      <th>1</th>\n",
       "      <td>0.613170</td>\n",
       "      <td>0.285315</td>\n",
       "      <td>0.141341</td>\n",
       "      <td>0.228191</td>\n",
       "      <td>0.076791</td>\n",
       "      <td>0.017322</td>\n",
       "    </tr>\n",
       "    <tr>\n",
       "      <th>2</th>\n",
       "      <td>0.795208</td>\n",
       "      <td>0.085882</td>\n",
       "      <td>0.082450</td>\n",
       "      <td>0.215874</td>\n",
       "      <td>0.020441</td>\n",
       "      <td>0.003199</td>\n",
       "    </tr>\n",
       "    <tr>\n",
       "      <th>3</th>\n",
       "      <td>0.011351</td>\n",
       "      <td>0.964706</td>\n",
       "      <td>0.039683</td>\n",
       "      <td>0.005806</td>\n",
       "      <td>0.003682</td>\n",
       "      <td>0.000658</td>\n",
       "    </tr>\n",
       "    <tr>\n",
       "      <th>4</th>\n",
       "      <td>0.810027</td>\n",
       "      <td>0.038871</td>\n",
       "      <td>0.092210</td>\n",
       "      <td>0.445313</td>\n",
       "      <td>0.021830</td>\n",
       "      <td>0.008558</td>\n",
       "    </tr>\n",
       "    <tr>\n",
       "      <th>...</th>\n",
       "      <td>...</td>\n",
       "      <td>...</td>\n",
       "      <td>...</td>\n",
       "      <td>...</td>\n",
       "      <td>...</td>\n",
       "      <td>...</td>\n",
       "    </tr>\n",
       "    <tr>\n",
       "      <th>4190</th>\n",
       "      <td>0.822180</td>\n",
       "      <td>0.056401</td>\n",
       "      <td>0.093984</td>\n",
       "      <td>0.266422</td>\n",
       "      <td>0.014271</td>\n",
       "      <td>0.003291</td>\n",
       "    </tr>\n",
       "    <tr>\n",
       "      <th>4191</th>\n",
       "      <td>0.754019</td>\n",
       "      <td>0.132712</td>\n",
       "      <td>0.033432</td>\n",
       "      <td>0.249145</td>\n",
       "      <td>0.078403</td>\n",
       "      <td>0.007746</td>\n",
       "    </tr>\n",
       "    <tr>\n",
       "      <th>4192</th>\n",
       "      <td>0.014544</td>\n",
       "      <td>0.078121</td>\n",
       "      <td>0.952936</td>\n",
       "      <td>0.004732</td>\n",
       "      <td>0.000128</td>\n",
       "      <td>0.000180</td>\n",
       "    </tr>\n",
       "    <tr>\n",
       "      <th>4193</th>\n",
       "      <td>0.003283</td>\n",
       "      <td>0.994533</td>\n",
       "      <td>0.003567</td>\n",
       "      <td>0.000944</td>\n",
       "      <td>0.000917</td>\n",
       "      <td>0.000056</td>\n",
       "    </tr>\n",
       "    <tr>\n",
       "      <th>4194</th>\n",
       "      <td>0.893500</td>\n",
       "      <td>0.035875</td>\n",
       "      <td>0.027085</td>\n",
       "      <td>0.243802</td>\n",
       "      <td>0.012850</td>\n",
       "      <td>0.001530</td>\n",
       "    </tr>\n",
       "  </tbody>\n",
       "</table>\n",
       "<p>4195 rows × 6 columns</p>\n",
       "</div>"
      ],
      "text/plain": [
       "      Computer Science   Physics  Mathematics  Statistics  \\\n",
       "0             0.758541  0.116572     0.031516    0.272788   \n",
       "1             0.613170  0.285315     0.141341    0.228191   \n",
       "2             0.795208  0.085882     0.082450    0.215874   \n",
       "3             0.011351  0.964706     0.039683    0.005806   \n",
       "4             0.810027  0.038871     0.092210    0.445313   \n",
       "...                ...       ...          ...         ...   \n",
       "4190          0.822180  0.056401     0.093984    0.266422   \n",
       "4191          0.754019  0.132712     0.033432    0.249145   \n",
       "4192          0.014544  0.078121     0.952936    0.004732   \n",
       "4193          0.003283  0.994533     0.003567    0.000944   \n",
       "4194          0.893500  0.035875     0.027085    0.243802   \n",
       "\n",
       "      Quantitative Biology  Quantitative Finance  \n",
       "0                 0.064737              0.007393  \n",
       "1                 0.076791              0.017322  \n",
       "2                 0.020441              0.003199  \n",
       "3                 0.003682              0.000658  \n",
       "4                 0.021830              0.008558  \n",
       "...                    ...                   ...  \n",
       "4190              0.014271              0.003291  \n",
       "4191              0.078403              0.007746  \n",
       "4192              0.000128              0.000180  \n",
       "4193              0.000917              0.000056  \n",
       "4194              0.012850              0.001530  \n",
       "\n",
       "[4195 rows x 6 columns]"
      ]
     },
     "execution_count": 31,
     "metadata": {},
     "output_type": "execute_result"
    }
   ],
   "source": [
    "predicted_output_LSTM #with tax2vec Rarest Terms full data and KG = True"
   ]
  },
  {
   "cell_type": "code",
   "execution_count": 32,
   "id": "6eda6887",
   "metadata": {},
   "outputs": [],
   "source": [
    "#Setting the threshold value to converted the predicted output to one hot encoding\n",
    "\n",
    "k = predicted_output_LSTM.shape\n",
    "for index in range(k[0]):\n",
    "    for u in list(predicted_output_LSTM.columns):\n",
    "        if predicted_output_LSTM[u][index] <0.5:\n",
    "            predicted_output_LSTM[u][index] = 0\n",
    "        else:\n",
    "            predicted_output_LSTM[u][index] = 1"
   ]
  },
  {
   "cell_type": "code",
   "execution_count": 33,
   "id": "3418309e",
   "metadata": {},
   "outputs": [
    {
     "name": "stdout",
     "output_type": "stream",
     "text": [
      "Loss\n",
      " [0.3943849503993988, 0.2821998596191406, 0.2630557417869568]\n",
      "Validation Loss\n",
      " [0.2884587347507477, 0.26752644777297974, 0.25355368852615356]\n",
      "Accuracy [0.5431568622589111, 0.7260372042655945, 0.735336184501648]\n",
      "Validation Accuracy [0.7218977212905884, 0.7358445525169373, 0.7452616691589355]\n"
     ]
    }
   ],
   "source": [
    "import matplotlib.pyplot as plt\n",
    "\n",
    "print(\"Loss\\n\",history_LSTM.history['loss'])\n",
    "print(\"Validation Loss\\n\",history_LSTM.history['val_loss'])\n",
    "print(\"Accuracy\",history_LSTM.history['accuracy'])\n",
    "print(\"Validation Accuracy\",history_LSTM.history['val_accuracy'])"
   ]
  },
  {
   "cell_type": "code",
   "execution_count": 34,
   "id": "7fe27deb",
   "metadata": {
    "scrolled": true
   },
   "outputs": [
    {
     "name": "stdout",
     "output_type": "stream",
     "text": [
      "########################   Loss  #########################\n",
      "\n",
      "\n"
     ]
    },
    {
     "data": {
      "image/png": "[encoded data removed]",
      "text/plain": [
       "<Figure size 432x288 with 1 Axes>"
      ]
     },
     "metadata": {
      "needs_background": "light"
     },
     "output_type": "display_data"
    },
    {
     "name": "stdout",
     "output_type": "stream",
     "text": [
      "########################   Accuracy  #########################\n",
      "\n",
      "\n"
     ]
    },
    {
     "data": {
      "image/png": "[encoded data removed]",
      "text/plain": [
       "<Figure size 432x288 with 1 Axes>"
      ]
     },
     "metadata": {
      "needs_background": "light"
     },
     "output_type": "display_data"
    }
   ],
   "source": [
    "# Loss \n",
    "\n",
    "print(\"########################   Loss  #########################\\n\\n\")\n",
    "plt.figure()\n",
    "plt.xlabel('Epoch')\n",
    "plt.ylabel('Loss')\n",
    "plt.plot(history_LSTM.history['loss'], color='green')\n",
    "plt.plot(history_LSTM.history['val_loss'], color='blue')\n",
    "plt.legend(['Train', 'Test'], loc='upper right')\n",
    "plt.title('Loss', pad=-50)\n",
    "plt.show()\n",
    "\n",
    "# Accuracy\n",
    "\n",
    "print(\"########################   Accuracy  #########################\\n\\n\")\n",
    "plt.figure()\n",
    "plt.plot(history_LSTM.history['accuracy'], color='green')\n",
    "plt.plot(history_LSTM.history['val_accuracy'], color='blue')\n",
    "plt.title('Accuracy', pad=-75)\n",
    "plt.xlabel('Epoch')\n",
    "plt.ylabel('Accuracy')\n",
    "plt.legend(['Train', 'Test'], loc='lower right')\n",
    "\n",
    "plt.show()"
   ]
  },
  {
   "cell_type": "code",
   "execution_count": 35,
   "id": "77624c4b",
   "metadata": {},
   "outputs": [
    {
     "name": "stdout",
     "output_type": "stream",
     "text": [
      "              precision    recall  f1-score   support\n",
      "\n",
      "           0       0.75      0.83      0.79      1692\n",
      "           1       0.85      0.79      0.82      1226\n",
      "           2       0.87      0.61      0.72      1150\n",
      "           3       0.76      0.22      0.34      1069\n",
      "           4       0.00      0.00      0.00       122\n",
      "           5       0.00      0.00      0.00        45\n",
      "\n",
      "   micro avg       0.80      0.62      0.70      5304\n",
      "   macro avg       0.54      0.41      0.44      5304\n",
      "weighted avg       0.78      0.62      0.66      5304\n",
      " samples avg       0.77      0.68      0.70      5304\n",
      "\n"
     ]
    }
   ],
   "source": [
    "#Confusion matrix with the evaluation metrics like Precision, Recall and f1Score\n",
    "\n",
    "print(classification_report(y_test, predicted_output_LSTM)) #with Rarest Terms, tax2vec for full data and KG = True"
   ]
  },
  {
   "cell_type": "code",
   "execution_count": 125,
   "id": "8e662bed",
   "metadata": {},
   "outputs": [
    {
     "name": "stdout",
     "output_type": "stream",
     "text": [
      "              precision    recall  f1-score   support\n",
      "\n",
      "           0       0.77      0.80      0.78      1692\n",
      "           1       0.83      0.80      0.82      1226\n",
      "           2       0.88      0.56      0.69      1150\n",
      "           3       0.66      0.53      0.59      1069\n",
      "           4       0.00      0.00      0.00       122\n",
      "           5       0.00      0.00      0.00        45\n",
      "\n",
      "   micro avg       0.78      0.67      0.72      5304\n",
      "   macro avg       0.52      0.45      0.48      5304\n",
      "weighted avg       0.76      0.67      0.71      5304\n",
      " samples avg       0.75      0.71      0.71      5304\n",
      "\n"
     ]
    }
   ],
   "source": [
    "#Confusion matrix with the evaluation metrics like Precision, Recall and f1Score\n",
    "\n",
    "print(classification_report(y_test, predicted_output_LSTM)) #without tax2vec"
   ]
  },
  {
   "cell_type": "markdown",
   "id": "b2555751",
   "metadata": {},
   "source": [
    "### GRU"
   ]
  },
  {
   "cell_type": "code",
   "execution_count": 27,
   "id": "e2b7c32d",
   "metadata": {},
   "outputs": [],
   "source": [
    "#Deffining embedding layer for building GRU Model. Change the input size to input length specified in tokenization before running model without tax2vec\n",
    "#Building GRU Model wuth Activation layer as Relu and Sigmoid\n",
    "\n",
    "embedding_layer = tf.keras.layers.Embedding(input_dim=num_words, output_dim=100, weights=[embedding_matrix], input_length=781, trainable=False)\n",
    "input_GRU = tf.keras.Input(shape=(781,))\n",
    "model_GRU = embedding_layer(input_GRU)\n",
    "model_GRU = tf.keras.layers.Bidirectional(tf.keras.layers.GRU(100, return_sequences=True))(model_GRU)\n",
    "model_GRU = tf.keras.layers.Bidirectional(tf.keras.layers.GRU(100, return_sequences=True))(model_GRU)\n",
    "model_GRU = tf.keras.layers.GlobalMaxPooling1D()(model_GRU)\n",
    "model_GRU = tf.keras.layers.Dense(64, activation='relu')(model_GRU)\n",
    "model_GRU = tf.keras.layers.Dense(128, activation='relu')(model_GRU)\n",
    "model_GRU = tf.keras.layers.Dropout(.2)(model_GRU)\n",
    "model_GRU = tf.keras.layers.Dense(128, activation='relu')(model_GRU)\n",
    "output_GRU = tf.keras.layers.Dense(6, activation='sigmoid')(model_GRU)\n",
    "model_GRU = tf.keras.Model(inputs=input_GRU, outputs=output_GRU)\n",
    "model_GRU.compile(loss='binary_crossentropy', optimizer='adam', metrics=['accuracy'])"
   ]
  },
  {
   "cell_type": "code",
   "execution_count": 28,
   "id": "74e18ee6",
   "metadata": {},
   "outputs": [
    {
     "name": "stdout",
     "output_type": "stream",
     "text": [
      "Model: \"model\"\n",
      "_________________________________________________________________\n",
      "Layer (type)                 Output Shape              Param #   \n",
      "=================================================================\n",
      "input_1 (InputLayer)         [(None, 781)]             0         \n",
      "_________________________________________________________________\n",
      "embedding (Embedding)        (None, 781, 100)          3540200   \n",
      "_________________________________________________________________\n",
      "bidirectional (Bidirectional (None, 781, 200)          121200    \n",
      "_________________________________________________________________\n",
      "bidirectional_1 (Bidirection (None, 781, 200)          181200    \n",
      "_________________________________________________________________\n",
      "global_max_pooling1d (Global (None, 200)               0         \n",
      "_________________________________________________________________\n",
      "dense (Dense)                (None, 64)                12864     \n",
      "_________________________________________________________________\n",
      "dense_1 (Dense)              (None, 128)               8320      \n",
      "_________________________________________________________________\n",
      "dropout (Dropout)            (None, 128)               0         \n",
      "_________________________________________________________________\n",
      "dense_2 (Dense)              (None, 128)               16512     \n",
      "_________________________________________________________________\n",
      "dense_3 (Dense)              (None, 6)                 774       \n",
      "=================================================================\n",
      "Total params: 3,881,070\n",
      "Trainable params: 340,870\n",
      "Non-trainable params: 3,540,200\n",
      "_________________________________________________________________\n",
      "None\n"
     ]
    }
   ],
   "source": [
    "print(model_GRU.summary())"
   ]
  },
  {
   "cell_type": "code",
   "execution_count": 128,
   "id": "42c8091f",
   "metadata": {},
   "outputs": [
    {
     "name": "stdout",
     "output_type": "stream",
     "text": [
      "Epoch 1/3\n",
      "84/84 [==============================] - 6526s 78s/step - loss: 0.3690 - accuracy: 0.5990 - val_loss: 0.2742 - val_accuracy: 0.7357\n",
      "Epoch 2/3\n",
      "84/84 [==============================] - 6537s 78s/step - loss: 0.2680 - accuracy: 0.7431 - val_loss: 0.2493 - val_accuracy: 0.7527\n",
      "Epoch 3/3\n",
      "84/84 [==============================] - 6638s 79s/step - loss: 0.2375 - accuracy: 0.7393 - val_loss: 0.2273 - val_accuracy: 0.7548\n"
     ]
    }
   ],
   "source": [
    "#Fitting the model\n",
    "\n",
    "history_GRU = model_GRU.fit(X_train, y_train, batch_size=100, epochs= 3, validation_split=0.5) #without tax2vec"
   ]
  },
  {
   "cell_type": "code",
   "execution_count": 29,
   "id": "4b9f3a63",
   "metadata": {},
   "outputs": [
    {
     "name": "stdout",
     "output_type": "stream",
     "text": [
      "Epoch 1/3\n",
      "84/84 [==============================] - 4522s 54s/step - loss: 0.3900 - accuracy: 0.5639 - val_loss: 0.2829 - val_accuracy: 0.7143\n",
      "Epoch 2/3\n",
      "84/84 [==============================] - 4590s 55s/step - loss: 0.2599 - accuracy: 0.7352 - val_loss: 0.2416 - val_accuracy: 0.7490\n",
      "Epoch 3/3\n",
      "84/84 [==============================] - 4654s 56s/step - loss: 0.2344 - accuracy: 0.7332 - val_loss: 0.2241 - val_accuracy: 0.7418\n"
     ]
    }
   ],
   "source": [
    "#Fitting the model\n",
    "\n",
    "history_GRU = model_GRU.fit(X_train, y_train, batch_size=100, epochs= 3, validation_split=0.5)  #with Rarest Terms, tax2vec for full data and KG = True"
   ]
  },
  {
   "cell_type": "code",
   "execution_count": 30,
   "id": "759ca47e",
   "metadata": {},
   "outputs": [],
   "source": [
    "#Running the model for Test Data\n",
    "\n",
    "predicted_output_GRU = model_GRU.predict(X_test)"
   ]
  },
  {
   "cell_type": "code",
   "execution_count": 31,
   "id": "e6ac12bb",
   "metadata": {},
   "outputs": [],
   "source": [
    "#Converting the output to data frame \n",
    "\n",
    "predicted_output_GRU = pd.DataFrame(predicted_output_GRU)\n",
    "predicted_output_GRU.columns = ['Computer Science', 'Physics', 'Mathematics', 'Statistics', 'Quantitative Biology', 'Quantitative Finance']"
   ]
  },
  {
   "cell_type": "code",
   "execution_count": 32,
   "id": "4e1940bf",
   "metadata": {},
   "outputs": [],
   "source": [
    "#Setting the threshold value to converted the predicted output to one hot encoding\n",
    "\n",
    "k = predicted_output_GRU.shape\n",
    "for index in range(k[0]):\n",
    "    for u in list(predicted_output_GRU.columns):\n",
    "        if predicted_output_GRU[u][index] <0.5:\n",
    "            predicted_output_GRU[u][index] = 0\n",
    "        else:\n",
    "            predicted_output_GRU[u][index] = 1"
   ]
  },
  {
   "cell_type": "code",
   "execution_count": 115,
   "id": "4c9c11b6",
   "metadata": {},
   "outputs": [
    {
     "name": "stdout",
     "output_type": "stream",
     "text": [
      "Loss\n",
      " [0.3520265817642212, 0.2438070923089981, 0.21969833970069885]\n",
      "Validation Loss\n",
      " [0.25498053431510925, 0.23526136577129364, 0.22058074176311493]\n",
      "Accuracy [0.6187410354614258, 0.7432045936584473, 0.7383166551589966]\n",
      "Validation Accuracy [0.753486692905426, 0.7244009971618652, 0.7052091956138611]\n"
     ]
    }
   ],
   "source": [
    "import matplotlib.pyplot as plt\n",
    "\n",
    "print(\"Loss\\n\",history_GRU.history['loss'])\n",
    "print(\"Validation Loss\\n\",history_GRU.history['val_loss'])\n",
    "print(\"Accuracy\",history_GRU.history['accuracy'])\n",
    "print(\"Validation Accuracy\",history_GRU.history['val_accuracy'])"
   ]
  },
  {
   "cell_type": "code",
   "execution_count": 116,
   "id": "b1a56173",
   "metadata": {},
   "outputs": [
    {
     "name": "stdout",
     "output_type": "stream",
     "text": [
      "########################   Loss  #########################\n",
      "\n",
      "\n"
     ]
    },
    {
     "data": {
      "image/png": "[encoded data removed]",
      "text/plain": [
       "<Figure size 432x288 with 1 Axes>"
      ]
     },
     "metadata": {
      "needs_background": "light"
     },
     "output_type": "display_data"
    },
    {
     "name": "stdout",
     "output_type": "stream",
     "text": [
      "########################   Accuracy  #########################\n",
      "\n",
      "\n"
     ]
    },
    {
     "data": {
      "image/png": "[encoded data removed]",
      "text/plain": [
       "<Figure size 432x288 with 1 Axes>"
      ]
     },
     "metadata": {
      "needs_background": "light"
     },
     "output_type": "display_data"
    }
   ],
   "source": [
    "#Loss \n",
    "\n",
    "print(\"########################   Loss  #########################\\n\\n\")\n",
    "plt.figure()\n",
    "plt.xlabel('Epoch')\n",
    "plt.ylabel('Loss')\n",
    "plt.plot(history_GRU.history['loss'], color='green')\n",
    "plt.plot(history_GRU.history['val_loss'], color='blue')\n",
    "plt.legend(['Train', 'Test'], loc='upper right')\n",
    "plt.title('Loss', pad=-50)\n",
    "plt.show()\n",
    "\n",
    "# Accuracy\n",
    "\n",
    "print(\"########################   Accuracy  #########################\\n\\n\")\n",
    "plt.figure()\n",
    "plt.plot(history_GRU.history['accuracy'], color='green')\n",
    "plt.plot(history_GRU.history['val_accuracy'], color='blue')\n",
    "plt.title('Accuracy', pad=-75)\n",
    "plt.xlabel('Epoch')\n",
    "plt.ylabel('Accuracy')\n",
    "plt.legend(['Train', 'Test'], loc='lower right')\n",
    "\n",
    "plt.show()"
   ]
  },
  {
   "cell_type": "code",
   "execution_count": 132,
   "id": "278b430a",
   "metadata": {},
   "outputs": [
    {
     "name": "stdout",
     "output_type": "stream",
     "text": [
      "              precision    recall  f1-score   support\n",
      "\n",
      "           0       0.77      0.86      0.81      1692\n",
      "           1       0.87      0.82      0.85      1226\n",
      "           2       0.80      0.73      0.76      1150\n",
      "           3       0.77      0.50      0.61      1069\n",
      "           4       0.00      0.00      0.00       122\n",
      "           5       0.00      0.00      0.00        45\n",
      "\n",
      "   micro avg       0.80      0.72      0.76      5304\n",
      "   macro avg       0.54      0.49      0.51      5304\n",
      "weighted avg       0.78      0.72      0.74      5304\n",
      " samples avg       0.80      0.76      0.76      5304\n",
      "\n"
     ]
    }
   ],
   "source": [
    "#Confusion matrix with the evaluation metrics like Precision, Recall and f1Score\n",
    "\n",
    "print(classification_report(y_test, predicted_output_GRU)) #without tax2vec for full data"
   ]
  },
  {
   "cell_type": "code",
   "execution_count": 33,
   "id": "c0237087",
   "metadata": {},
   "outputs": [
    {
     "name": "stdout",
     "output_type": "stream",
     "text": [
      "              precision    recall  f1-score   support\n",
      "\n",
      "           0       0.76      0.86      0.81      1692\n",
      "           1       0.89      0.79      0.84      1226\n",
      "           2       0.82      0.70      0.75      1150\n",
      "           3       0.75      0.65      0.69      1069\n",
      "           4       0.00      0.00      0.00       122\n",
      "           5       0.00      0.00      0.00        45\n",
      "\n",
      "   micro avg       0.80      0.74      0.77      5304\n",
      "   macro avg       0.54      0.50      0.52      5304\n",
      "weighted avg       0.77      0.74      0.75      5304\n",
      " samples avg       0.79      0.77      0.77      5304\n",
      "\n"
     ]
    }
   ],
   "source": [
    "#Confusion matrix with the evaluation metrics like Precision, Recall and f1Score\n",
    "\n",
    "print(classification_report(y_test, predicted_output_GRU)) #with Rarest Terms, tax2vec for full data and KG = True"
   ]
  },
  {
   "cell_type": "markdown",
   "id": "e8944dd9",
   "metadata": {},
   "source": [
    "### RNN"
   ]
  },
  {
   "cell_type": "code",
   "execution_count": 34,
   "id": "d8f3ab60",
   "metadata": {},
   "outputs": [],
   "source": [
    "#Deffining embedding layer for building RNN Model. Change the input size to input length specified in tokenization before running model without tax2vec\n",
    "#Building RNN Model wuth Activation layer as Relu and Sigmoid\n",
    "\n",
    "embedding_layer = tf.keras.layers.Embedding(input_dim=num_words, output_dim=100, weights=[embedding_matrix], input_length=781, trainable=False)\n",
    "input_RNN = tf.keras.Input(shape=(781,))\n",
    "model_RNN = embedding_layer(input_RNN)\n",
    "model_RNN = tf.keras.layers.Bidirectional(tf.keras.layers.SimpleRNN(100, return_sequences=True))(model_RNN)\n",
    "model_RNN = tf.keras.layers.Bidirectional(tf.keras.layers.SimpleRNN(100, return_sequences=True))(model_RNN)\n",
    "model_RNN = tf.keras.layers.GlobalMaxPooling1D()(model_RNN)\n",
    "model_RNN = tf.keras.layers.Dense(64, activation='relu')(model_RNN)\n",
    "model_RNN = tf.keras.layers.Dense(128, activation='relu')(model_RNN)\n",
    "model_RNN = tf.keras.layers.Dropout(.2)(model_RNN)\n",
    "model_RNN = tf.keras.layers.Dense(128, activation='relu')(model_RNN)\n",
    "output_RNN = tf.keras.layers.Dense(6, activation='sigmoid')(model_RNN)\n",
    "model_RNN = tf.keras.Model(inputs=input_RNN, outputs=output_RNN)\n",
    "model_RNN.compile(loss='binary_crossentropy', optimizer='adam', metrics=['accuracy'])"
   ]
  },
  {
   "cell_type": "code",
   "execution_count": 35,
   "id": "5f965a0a",
   "metadata": {},
   "outputs": [
    {
     "name": "stdout",
     "output_type": "stream",
     "text": [
      "Model: \"model_1\"\n",
      "_________________________________________________________________\n",
      "Layer (type)                 Output Shape              Param #   \n",
      "=================================================================\n",
      "input_2 (InputLayer)         [(None, 781)]             0         \n",
      "_________________________________________________________________\n",
      "embedding_1 (Embedding)      (None, 781, 100)          3540200   \n",
      "_________________________________________________________________\n",
      "bidirectional_2 (Bidirection (None, 781, 200)          40200     \n",
      "_________________________________________________________________\n",
      "bidirectional_3 (Bidirection (None, 781, 200)          60200     \n",
      "_________________________________________________________________\n",
      "global_max_pooling1d_1 (Glob (None, 200)               0         \n",
      "_________________________________________________________________\n",
      "dense_4 (Dense)              (None, 64)                12864     \n",
      "_________________________________________________________________\n",
      "dense_5 (Dense)              (None, 128)               8320      \n",
      "_________________________________________________________________\n",
      "dropout_1 (Dropout)          (None, 128)               0         \n",
      "_________________________________________________________________\n",
      "dense_6 (Dense)              (None, 128)               16512     \n",
      "_________________________________________________________________\n",
      "dense_7 (Dense)              (None, 6)                 774       \n",
      "=================================================================\n",
      "Total params: 3,679,070\n",
      "Trainable params: 138,870\n",
      "Non-trainable params: 3,540,200\n",
      "_________________________________________________________________\n",
      "None\n"
     ]
    }
   ],
   "source": [
    "print(model_RNN.summary())"
   ]
  },
  {
   "cell_type": "code",
   "execution_count": 173,
   "id": "8ecbec22",
   "metadata": {},
   "outputs": [
    {
     "name": "stdout",
     "output_type": "stream",
     "text": [
      "Epoch 1/3\n",
      "84/84 [==============================] - 1886s 22s/step - loss: 0.4034 - accuracy: 0.5212 - val_loss: 0.3075 - val_accuracy: 0.6983\n",
      "Epoch 2/3\n",
      "84/84 [==============================] - 1887s 23s/step - loss: 0.2934 - accuracy: 0.7191 - val_loss: 0.2703 - val_accuracy: 0.7414\n",
      "Epoch 3/3\n",
      "84/84 [==============================] - 1887s 23s/step - loss: 0.2621 - accuracy: 0.7389 - val_loss: 0.2549 - val_accuracy: 0.7225\n"
     ]
    }
   ],
   "source": [
    "#Fitting the model\n",
    "\n",
    "history_RNN = model_RNN.fit(X_train, y_train, batch_size=100, epochs= 3, validation_split=0.5) #without tax2vec"
   ]
  },
  {
   "cell_type": "code",
   "execution_count": 36,
   "id": "a6511b69",
   "metadata": {},
   "outputs": [
    {
     "name": "stdout",
     "output_type": "stream",
     "text": [
      "Epoch 1/3\n",
      "84/84 [==============================] - 937s 11s/step - loss: 0.4249 - accuracy: 0.4704 - val_loss: 0.2936 - val_accuracy: 0.7128\n",
      "Epoch 2/3\n",
      "84/84 [==============================] - 927s 11s/step - loss: 0.2890 - accuracy: 0.7228 - val_loss: 0.2683 - val_accuracy: 0.7416\n",
      "Epoch 3/3\n",
      "84/84 [==============================] - 1136s 14s/step - loss: 0.2624 - accuracy: 0.7493 - val_loss: 0.2591 - val_accuracy: 0.7419\n"
     ]
    }
   ],
   "source": [
    "#Fitting the model\n",
    "\n",
    "history_RNN = model_RNN.fit(X_train, y_train, batch_size=100, epochs= 3, validation_split=0.5) #with tax2vec Rarest Terms for full data and KG = True"
   ]
  },
  {
   "cell_type": "code",
   "execution_count": 37,
   "id": "d1316620",
   "metadata": {},
   "outputs": [],
   "source": [
    "#Running the model for Test Data\n",
    "\n",
    "predicted_output_RNN = model_RNN.predict(X_test)"
   ]
  },
  {
   "cell_type": "code",
   "execution_count": 38,
   "id": "7843de4b",
   "metadata": {},
   "outputs": [],
   "source": [
    "#Converting the output to data frame \n",
    "\n",
    "predicted_output_RNN = pd.DataFrame(predicted_output_RNN)\n",
    "predicted_output_RNN.columns = ['Computer Science', 'Physics', 'Mathematics', 'Statistics', 'Quantitative Biology', 'Quantitative Finance']"
   ]
  },
  {
   "cell_type": "code",
   "execution_count": 39,
   "id": "e59e8ab4",
   "metadata": {},
   "outputs": [
    {
     "data": {
      "text/html": [
       "<div>\n",
       "<style scoped>\n",
       "    .dataframe tbody tr th:only-of-type {\n",
       "        vertical-align: middle;\n",
       "    }\n",
       "\n",
       "    .dataframe tbody tr th {\n",
       "        vertical-align: top;\n",
       "    }\n",
       "\n",
       "    .dataframe thead th {\n",
       "        text-align: right;\n",
       "    }\n",
       "</style>\n",
       "<table border=\"1\" class=\"dataframe\">\n",
       "  <thead>\n",
       "    <tr style=\"text-align: right;\">\n",
       "      <th></th>\n",
       "      <th>Computer Science</th>\n",
       "      <th>Physics</th>\n",
       "      <th>Mathematics</th>\n",
       "      <th>Statistics</th>\n",
       "      <th>Quantitative Biology</th>\n",
       "      <th>Quantitative Finance</th>\n",
       "    </tr>\n",
       "  </thead>\n",
       "  <tbody>\n",
       "    <tr>\n",
       "      <th>0</th>\n",
       "      <td>0.845928</td>\n",
       "      <td>0.029727</td>\n",
       "      <td>0.013243</td>\n",
       "      <td>0.425567</td>\n",
       "      <td>0.022562</td>\n",
       "      <td>0.003659</td>\n",
       "    </tr>\n",
       "    <tr>\n",
       "      <th>1</th>\n",
       "      <td>0.667830</td>\n",
       "      <td>0.140438</td>\n",
       "      <td>0.046860</td>\n",
       "      <td>0.356978</td>\n",
       "      <td>0.066937</td>\n",
       "      <td>0.011827</td>\n",
       "    </tr>\n",
       "    <tr>\n",
       "      <th>2</th>\n",
       "      <td>0.767792</td>\n",
       "      <td>0.047841</td>\n",
       "      <td>0.095252</td>\n",
       "      <td>0.298981</td>\n",
       "      <td>0.022878</td>\n",
       "      <td>0.005436</td>\n",
       "    </tr>\n",
       "    <tr>\n",
       "      <th>3</th>\n",
       "      <td>0.013438</td>\n",
       "      <td>0.876987</td>\n",
       "      <td>0.241084</td>\n",
       "      <td>0.010720</td>\n",
       "      <td>0.008103</td>\n",
       "      <td>0.002674</td>\n",
       "    </tr>\n",
       "    <tr>\n",
       "      <th>4</th>\n",
       "      <td>0.739911</td>\n",
       "      <td>0.020331</td>\n",
       "      <td>0.152674</td>\n",
       "      <td>0.505885</td>\n",
       "      <td>0.012397</td>\n",
       "      <td>0.006500</td>\n",
       "    </tr>\n",
       "    <tr>\n",
       "      <th>...</th>\n",
       "      <td>...</td>\n",
       "      <td>...</td>\n",
       "      <td>...</td>\n",
       "      <td>...</td>\n",
       "      <td>...</td>\n",
       "      <td>...</td>\n",
       "    </tr>\n",
       "    <tr>\n",
       "      <th>4190</th>\n",
       "      <td>0.762101</td>\n",
       "      <td>0.030123</td>\n",
       "      <td>0.121030</td>\n",
       "      <td>0.419452</td>\n",
       "      <td>0.017364</td>\n",
       "      <td>0.006809</td>\n",
       "    </tr>\n",
       "    <tr>\n",
       "      <th>4191</th>\n",
       "      <td>0.768946</td>\n",
       "      <td>0.088866</td>\n",
       "      <td>0.045007</td>\n",
       "      <td>0.264393</td>\n",
       "      <td>0.052290</td>\n",
       "      <td>0.009226</td>\n",
       "    </tr>\n",
       "    <tr>\n",
       "      <th>4192</th>\n",
       "      <td>0.048745</td>\n",
       "      <td>0.032672</td>\n",
       "      <td>0.968564</td>\n",
       "      <td>0.028694</td>\n",
       "      <td>0.000848</td>\n",
       "      <td>0.001807</td>\n",
       "    </tr>\n",
       "    <tr>\n",
       "      <th>4193</th>\n",
       "      <td>0.015445</td>\n",
       "      <td>0.984309</td>\n",
       "      <td>0.008992</td>\n",
       "      <td>0.004425</td>\n",
       "      <td>0.013812</td>\n",
       "      <td>0.000642</td>\n",
       "    </tr>\n",
       "    <tr>\n",
       "      <th>4194</th>\n",
       "      <td>0.830920</td>\n",
       "      <td>0.021573</td>\n",
       "      <td>0.036686</td>\n",
       "      <td>0.389578</td>\n",
       "      <td>0.018624</td>\n",
       "      <td>0.004638</td>\n",
       "    </tr>\n",
       "  </tbody>\n",
       "</table>\n",
       "<p>4195 rows × 6 columns</p>\n",
       "</div>"
      ],
      "text/plain": [
       "      Computer Science   Physics  Mathematics  Statistics  \\\n",
       "0             0.845928  0.029727     0.013243    0.425567   \n",
       "1             0.667830  0.140438     0.046860    0.356978   \n",
       "2             0.767792  0.047841     0.095252    0.298981   \n",
       "3             0.013438  0.876987     0.241084    0.010720   \n",
       "4             0.739911  0.020331     0.152674    0.505885   \n",
       "...                ...       ...          ...         ...   \n",
       "4190          0.762101  0.030123     0.121030    0.419452   \n",
       "4191          0.768946  0.088866     0.045007    0.264393   \n",
       "4192          0.048745  0.032672     0.968564    0.028694   \n",
       "4193          0.015445  0.984309     0.008992    0.004425   \n",
       "4194          0.830920  0.021573     0.036686    0.389578   \n",
       "\n",
       "      Quantitative Biology  Quantitative Finance  \n",
       "0                 0.022562              0.003659  \n",
       "1                 0.066937              0.011827  \n",
       "2                 0.022878              0.005436  \n",
       "3                 0.008103              0.002674  \n",
       "4                 0.012397              0.006500  \n",
       "...                    ...                   ...  \n",
       "4190              0.017364              0.006809  \n",
       "4191              0.052290              0.009226  \n",
       "4192              0.000848              0.001807  \n",
       "4193              0.013812              0.000642  \n",
       "4194              0.018624              0.004638  \n",
       "\n",
       "[4195 rows x 6 columns]"
      ]
     },
     "execution_count": 39,
     "metadata": {},
     "output_type": "execute_result"
    }
   ],
   "source": [
    "predicted_output_RNN #with Rarest Terms tax2vec for full data and KG = True"
   ]
  },
  {
   "cell_type": "code",
   "execution_count": 176,
   "id": "a33b30c7",
   "metadata": {},
   "outputs": [
    {
     "data": {
      "text/html": [
       "<div>\n",
       "<style scoped>\n",
       "    .dataframe tbody tr th:only-of-type {\n",
       "        vertical-align: middle;\n",
       "    }\n",
       "\n",
       "    .dataframe tbody tr th {\n",
       "        vertical-align: top;\n",
       "    }\n",
       "\n",
       "    .dataframe thead th {\n",
       "        text-align: right;\n",
       "    }\n",
       "</style>\n",
       "<table border=\"1\" class=\"dataframe\">\n",
       "  <thead>\n",
       "    <tr style=\"text-align: right;\">\n",
       "      <th></th>\n",
       "      <th>Computer Science</th>\n",
       "      <th>Physics</th>\n",
       "      <th>Mathematics</th>\n",
       "      <th>Statistics</th>\n",
       "      <th>Quantitative Biology</th>\n",
       "      <th>Quantitative Finance</th>\n",
       "    </tr>\n",
       "  </thead>\n",
       "  <tbody>\n",
       "    <tr>\n",
       "      <th>0</th>\n",
       "      <td>0.806555</td>\n",
       "      <td>0.058828</td>\n",
       "      <td>0.026660</td>\n",
       "      <td>0.461407</td>\n",
       "      <td>0.039692</td>\n",
       "      <td>0.005814</td>\n",
       "    </tr>\n",
       "    <tr>\n",
       "      <th>1</th>\n",
       "      <td>0.382746</td>\n",
       "      <td>0.282128</td>\n",
       "      <td>0.132580</td>\n",
       "      <td>0.377392</td>\n",
       "      <td>0.037364</td>\n",
       "      <td>0.012428</td>\n",
       "    </tr>\n",
       "    <tr>\n",
       "      <th>2</th>\n",
       "      <td>0.623785</td>\n",
       "      <td>0.035840</td>\n",
       "      <td>0.179455</td>\n",
       "      <td>0.496040</td>\n",
       "      <td>0.009532</td>\n",
       "      <td>0.004876</td>\n",
       "    </tr>\n",
       "    <tr>\n",
       "      <th>3</th>\n",
       "      <td>0.014587</td>\n",
       "      <td>0.866918</td>\n",
       "      <td>0.219215</td>\n",
       "      <td>0.012474</td>\n",
       "      <td>0.007842</td>\n",
       "      <td>0.001310</td>\n",
       "    </tr>\n",
       "    <tr>\n",
       "      <th>4</th>\n",
       "      <td>0.722532</td>\n",
       "      <td>0.018277</td>\n",
       "      <td>0.131575</td>\n",
       "      <td>0.570688</td>\n",
       "      <td>0.012022</td>\n",
       "      <td>0.006569</td>\n",
       "    </tr>\n",
       "    <tr>\n",
       "      <th>...</th>\n",
       "      <td>...</td>\n",
       "      <td>...</td>\n",
       "      <td>...</td>\n",
       "      <td>...</td>\n",
       "      <td>...</td>\n",
       "      <td>...</td>\n",
       "    </tr>\n",
       "    <tr>\n",
       "      <th>4190</th>\n",
       "      <td>0.616824</td>\n",
       "      <td>0.028610</td>\n",
       "      <td>0.248866</td>\n",
       "      <td>0.615175</td>\n",
       "      <td>0.014910</td>\n",
       "      <td>0.011783</td>\n",
       "    </tr>\n",
       "    <tr>\n",
       "      <th>4191</th>\n",
       "      <td>0.778641</td>\n",
       "      <td>0.089775</td>\n",
       "      <td>0.051744</td>\n",
       "      <td>0.380690</td>\n",
       "      <td>0.067286</td>\n",
       "      <td>0.017176</td>\n",
       "    </tr>\n",
       "    <tr>\n",
       "      <th>4192</th>\n",
       "      <td>0.054102</td>\n",
       "      <td>0.043350</td>\n",
       "      <td>0.943069</td>\n",
       "      <td>0.049088</td>\n",
       "      <td>0.002276</td>\n",
       "      <td>0.003537</td>\n",
       "    </tr>\n",
       "    <tr>\n",
       "      <th>4193</th>\n",
       "      <td>0.018421</td>\n",
       "      <td>0.975477</td>\n",
       "      <td>0.019648</td>\n",
       "      <td>0.013530</td>\n",
       "      <td>0.014711</td>\n",
       "      <td>0.001313</td>\n",
       "    </tr>\n",
       "    <tr>\n",
       "      <th>4194</th>\n",
       "      <td>0.812194</td>\n",
       "      <td>0.034374</td>\n",
       "      <td>0.029957</td>\n",
       "      <td>0.404739</td>\n",
       "      <td>0.020765</td>\n",
       "      <td>0.004977</td>\n",
       "    </tr>\n",
       "  </tbody>\n",
       "</table>\n",
       "<p>4195 rows × 6 columns</p>\n",
       "</div>"
      ],
      "text/plain": [
       "      Computer Science   Physics  Mathematics  Statistics  \\\n",
       "0             0.806555  0.058828     0.026660    0.461407   \n",
       "1             0.382746  0.282128     0.132580    0.377392   \n",
       "2             0.623785  0.035840     0.179455    0.496040   \n",
       "3             0.014587  0.866918     0.219215    0.012474   \n",
       "4             0.722532  0.018277     0.131575    0.570688   \n",
       "...                ...       ...          ...         ...   \n",
       "4190          0.616824  0.028610     0.248866    0.615175   \n",
       "4191          0.778641  0.089775     0.051744    0.380690   \n",
       "4192          0.054102  0.043350     0.943069    0.049088   \n",
       "4193          0.018421  0.975477     0.019648    0.013530   \n",
       "4194          0.812194  0.034374     0.029957    0.404739   \n",
       "\n",
       "      Quantitative Biology  Quantitative Finance  \n",
       "0                 0.039692              0.005814  \n",
       "1                 0.037364              0.012428  \n",
       "2                 0.009532              0.004876  \n",
       "3                 0.007842              0.001310  \n",
       "4                 0.012022              0.006569  \n",
       "...                    ...                   ...  \n",
       "4190              0.014910              0.011783  \n",
       "4191              0.067286              0.017176  \n",
       "4192              0.002276              0.003537  \n",
       "4193              0.014711              0.001313  \n",
       "4194              0.020765              0.004977  \n",
       "\n",
       "[4195 rows x 6 columns]"
      ]
     },
     "execution_count": 176,
     "metadata": {},
     "output_type": "execute_result"
    }
   ],
   "source": [
    "predicted_output_RNN #without tax2vec"
   ]
  },
  {
   "cell_type": "code",
   "execution_count": 40,
   "id": "41f8f1fa",
   "metadata": {},
   "outputs": [],
   "source": [
    "#Setting the threshold value to converted the predicted output to one hot encoding\n",
    "\n",
    "k = predicted_output_RNN.shape\n",
    "for index in range(k[0]):\n",
    "    for u in list(predicted_output_RNN.columns):\n",
    "        if predicted_output_RNN[u][index] <0.5:\n",
    "            predicted_output_RNN[u][index] = 0\n",
    "        else:\n",
    "            predicted_output_RNN[u][index] = 1"
   ]
  },
  {
   "cell_type": "code",
   "execution_count": 30,
   "id": "2c811f56",
   "metadata": {},
   "outputs": [
    {
     "name": "stdout",
     "output_type": "stream",
     "text": [
      "Loss\n",
      " [0.4103924632072449, 0.28968074917793274, 0.2659970223903656]\n",
      "Validation Loss\n",
      " [0.30101242661476135, 0.28632673621177673, 0.26059287786483765]\n",
      "Accuracy [0.5015498399734497, 0.7209108471870422, 0.7440391182899475]\n",
      "Validation Accuracy [0.7096197605133057, 0.7199904918670654, 0.7474073171615601]\n",
      "########################   Loss  #########################\n",
      "\n",
      "\n"
     ]
    },
    {
     "data": {
      "image/png": "[encoded data removed]",
      "text/plain": [
       "<Figure size 432x288 with 1 Axes>"
      ]
     },
     "metadata": {
      "needs_background": "light"
     },
     "output_type": "display_data"
    },
    {
     "name": "stdout",
     "output_type": "stream",
     "text": [
      "########################   Accuracy  #########################\n",
      "\n",
      "\n"
     ]
    },
    {
     "data": {
      "image/png": "[encoded data removed]",
      "text/plain": [
       "<Figure size 432x288 with 1 Axes>"
      ]
     },
     "metadata": {
      "needs_background": "light"
     },
     "output_type": "display_data"
    }
   ],
   "source": [
    "import matplotlib.pyplot as plt\n",
    "\n",
    "print(\"Loss\\n\",history_RNN.history['loss'])\n",
    "print(\"Validation Loss\\n\",history_RNN.history['val_loss'])\n",
    "print(\"Accuracy\",history_RNN.history['accuracy'])\n",
    "print(\"Validation Accuracy\",history_RNN.history['val_accuracy'])\n",
    "\n",
    "#Loss \n",
    "\n",
    "print(\"########################   Loss  #########################\\n\\n\")\n",
    "plt.figure()\n",
    "plt.xlabel('Epoch')\n",
    "plt.ylabel('Loss')\n",
    "plt.plot(history_RNN.history['loss'], color='green')\n",
    "plt.plot(history_RNN.history['val_loss'], color='blue')\n",
    "plt.legend(['Train', 'Test'], loc='upper right')\n",
    "plt.title('Loss', pad=-50)\n",
    "plt.show()\n",
    "\n",
    "# Accuracy\n",
    "\n",
    "print(\"########################   Accuracy  #########################\\n\\n\")\n",
    "plt.figure()\n",
    "plt.plot(history_RNN.history['accuracy'], color='green')\n",
    "plt.plot(history_RNN.history['val_accuracy'], color='blue')\n",
    "plt.title('Accuracy', pad=-75)\n",
    "plt.xlabel('Epoch')\n",
    "plt.ylabel('Accuracy')\n",
    "plt.legend(['Train', 'Test'], loc='lower right')\n",
    "\n",
    "plt.show()"
   ]
  },
  {
   "cell_type": "code",
   "execution_count": 41,
   "id": "c0023549",
   "metadata": {},
   "outputs": [
    {
     "name": "stdout",
     "output_type": "stream",
     "text": [
      "              precision    recall  f1-score   support\n",
      "\n",
      "           0       0.69      0.92      0.79      1692\n",
      "           1       0.93      0.70      0.80      1226\n",
      "           2       0.82      0.66      0.73      1150\n",
      "           3       0.69      0.46      0.55      1069\n",
      "           4       0.00      0.00      0.00       122\n",
      "           5       0.00      0.00      0.00        45\n",
      "\n",
      "   micro avg       0.76      0.69      0.72      5304\n",
      "   macro avg       0.52      0.46      0.48      5304\n",
      "weighted avg       0.75      0.69      0.71      5304\n",
      " samples avg       0.75      0.72      0.72      5304\n",
      "\n"
     ]
    }
   ],
   "source": [
    "#Confusion matrix with the evaluation metrics like Precision, Recall and f1Score\n",
    "\n",
    "print(classification_report(y_test, predicted_output_RNN)) #with Rarest terms tax2vec for full data and KG = True"
   ]
  },
  {
   "cell_type": "code",
   "execution_count": 178,
   "id": "8d8c4321",
   "metadata": {},
   "outputs": [
    {
     "name": "stdout",
     "output_type": "stream",
     "text": [
      "              precision    recall  f1-score   support\n",
      "\n",
      "           0       0.72      0.85      0.78      1692\n",
      "           1       0.90      0.75      0.82      1226\n",
      "           2       0.82      0.70      0.75      1150\n",
      "           3       0.61      0.70      0.65      1069\n",
      "           4       0.00      0.00      0.00       122\n",
      "           5       0.00      0.00      0.00        45\n",
      "\n",
      "   micro avg       0.75      0.74      0.74      5304\n",
      "   macro avg       0.51      0.50      0.50      5304\n",
      "weighted avg       0.74      0.74      0.73      5304\n",
      " samples avg       0.74      0.76      0.73      5304\n",
      "\n"
     ]
    }
   ],
   "source": [
    "#Confusion matrix with the evaluation metrics like Precision, Recall and f1Score\n",
    "\n",
    "print(classification_report(y_test, predicted_output_RNN)) #without tax2vec"
   ]
  },
  {
   "cell_type": "markdown",
   "id": "ad43847e",
   "metadata": {},
   "source": [
    "### DNN"
   ]
  },
  {
   "cell_type": "code",
   "execution_count": 42,
   "id": "270a048c",
   "metadata": {},
   "outputs": [],
   "source": [
    "#Defining DNN Model. Change the input size to input length specified in tokenization before running model without tax2vec\n",
    "#Building DNN Model wuth Activation layer as Relu and Sigmoid\n",
    "\n",
    "model_DNN = tf.keras.models.Sequential()\n",
    "model_DNN.add(tf.keras.Input(shape=(781,)))\n",
    "model_DNN.add(tf.keras.layers.Dense(32, activation='relu'))\n",
    "model_DNN.add(tf.keras.layers.Dense(64, activation='relu'))\n",
    "model_DNN.add(tf.keras.layers.Dense(128, activation='relu'))\n",
    "model_DNN.add(tf.keras.layers.Dense(64, activation='relu'))\n",
    "model_DNN.add(tf.keras.layers.Dense(6, activation='sigmoid'))\n",
    "model_DNN.output_shape\n",
    "model_DNN.compile(loss='binary_crossentropy', optimizer='adam', metrics=['accuracy'])"
   ]
  },
  {
   "cell_type": "code",
   "execution_count": 43,
   "id": "4fd11e01",
   "metadata": {},
   "outputs": [
    {
     "name": "stdout",
     "output_type": "stream",
     "text": [
      "Model: \"sequential\"\n",
      "_________________________________________________________________\n",
      "Layer (type)                 Output Shape              Param #   \n",
      "=================================================================\n",
      "dense_8 (Dense)              (None, 32)                25024     \n",
      "_________________________________________________________________\n",
      "dense_9 (Dense)              (None, 64)                2112      \n",
      "_________________________________________________________________\n",
      "dense_10 (Dense)             (None, 128)               8320      \n",
      "_________________________________________________________________\n",
      "dense_11 (Dense)             (None, 64)                8256      \n",
      "_________________________________________________________________\n",
      "dense_12 (Dense)             (None, 6)                 390       \n",
      "=================================================================\n",
      "Total params: 44,102\n",
      "Trainable params: 44,102\n",
      "Non-trainable params: 0\n",
      "_________________________________________________________________\n",
      "None\n"
     ]
    }
   ],
   "source": [
    "print(model_DNN.summary())"
   ]
  },
  {
   "cell_type": "code",
   "execution_count": 44,
   "id": "5beca9f7",
   "metadata": {},
   "outputs": [
    {
     "name": "stdout",
     "output_type": "stream",
     "text": [
      "Epoch 1/3\n",
      "84/84 [==============================] - 1s 11ms/step - loss: 5.6566 - accuracy: 0.2775 - val_loss: 0.8330 - val_accuracy: 0.2754\n",
      "Epoch 2/3\n",
      "84/84 [==============================] - 1s 9ms/step - loss: 0.6791 - accuracy: 0.2942 - val_loss: 0.6209 - val_accuracy: 0.2925\n",
      "Epoch 3/3\n",
      "84/84 [==============================] - 1s 9ms/step - loss: 0.5542 - accuracy: 0.3318 - val_loss: 0.5499 - val_accuracy: 0.3683\n"
     ]
    }
   ],
   "source": [
    "#Fitting the model\n",
    "\n",
    "history_DNN = model_DNN.fit(X_train, y_train, batch_size=100, epochs= 3, validation_split=0.5) #with Rarest Terms, tax2vec for full data and KG = True"
   ]
  },
  {
   "cell_type": "code",
   "execution_count": 181,
   "id": "dc395bd8",
   "metadata": {},
   "outputs": [
    {
     "name": "stdout",
     "output_type": "stream",
     "text": [
      "Epoch 1/3\n",
      "84/84 [==============================] - 3s 25ms/step - loss: 4.5117 - accuracy: 0.2909 - val_loss: 0.8105 - val_accuracy: 0.3307\n",
      "Epoch 2/3\n",
      "84/84 [==============================] - 2s 23ms/step - loss: 0.6594 - accuracy: 0.3462 - val_loss: 0.5880 - val_accuracy: 0.4054\n",
      "Epoch 3/3\n",
      "84/84 [==============================] - 2s 23ms/step - loss: 0.5444 - accuracy: 0.3784 - val_loss: 0.5325 - val_accuracy: 0.4134\n"
     ]
    }
   ],
   "source": [
    "#Fitting the model\n",
    "\n",
    "history_DNN = model_DNN.fit(X_train, y_train, batch_size=100, epochs= 3, validation_split=0.5) #without tax2vec"
   ]
  },
  {
   "cell_type": "code",
   "execution_count": 45,
   "id": "b43ff8a2",
   "metadata": {},
   "outputs": [],
   "source": [
    "predicted_output_DNN = model_DNN.predict(X_test)"
   ]
  },
  {
   "cell_type": "code",
   "execution_count": 46,
   "id": "cfbc4db1",
   "metadata": {},
   "outputs": [],
   "source": [
    "#Converting the output to data frame \n",
    "\n",
    "predicted_output_DNN = pd.DataFrame(predicted_output_DNN)\n",
    "predicted_output_DNN.columns = ['Computer Science', 'Physics', 'Mathematics', 'Statistics', 'Quantitative Biology', 'Quantitative Finance']"
   ]
  },
  {
   "cell_type": "code",
   "execution_count": 47,
   "id": "4b10bb17",
   "metadata": {},
   "outputs": [],
   "source": [
    "#Setting the threshold value to converted the predicted output to one hot encoding\n",
    "\n",
    "k = predicted_output_DNN.shape\n",
    "for index in range(k[0]):\n",
    "    for u in list(predicted_output_DNN.columns):\n",
    "        if predicted_output_DNN[u][index] <0.5:\n",
    "            predicted_output_DNN[u][index] = 0\n",
    "        else:\n",
    "            predicted_output_DNN[u][index] = 1"
   ]
  },
  {
   "cell_type": "code",
   "execution_count": 60,
   "id": "8efc8c79",
   "metadata": {},
   "outputs": [
    {
     "name": "stdout",
     "output_type": "stream",
     "text": [
      "Loss\n",
      " [0.2855730652809143, 0.28333282470703125, 0.28506672382354736]\n",
      "Validation Loss\n",
      " [0.9288175106048584, 0.9479458332061768, 0.9644665122032166]\n",
      "Accuracy [0.6010968089103699, 0.5997853875160217, 0.6015737056732178]\n",
      "Validation Accuracy [0.3646441698074341, 0.37060436606407166, 0.37370365858078003]\n",
      "########################   Loss  #########################\n",
      "\n",
      "\n"
     ]
    },
    {
     "data": {
      "image/png": "[encoded data removed]",
      "text/plain": [
       "<Figure size 432x288 with 1 Axes>"
      ]
     },
     "metadata": {
      "needs_background": "light"
     },
     "output_type": "display_data"
    },
    {
     "name": "stdout",
     "output_type": "stream",
     "text": [
      "########################   Accuracy  #########################\n",
      "\n",
      "\n"
     ]
    },
    {
     "data": {
      "image/png": "[encoded data removed]",
      "text/plain": [
       "<Figure size 432x288 with 1 Axes>"
      ]
     },
     "metadata": {
      "needs_background": "light"
     },
     "output_type": "display_data"
    }
   ],
   "source": [
    "import matplotlib.pyplot as plt\n",
    "\n",
    "print(\"Loss\\n\",history_DNN.history['loss'])\n",
    "print(\"Validation Loss\\n\",history_DNN.history['val_loss'])\n",
    "print(\"Accuracy\",history_DNN.history['accuracy'])\n",
    "print(\"Validation Accuracy\",history_DNN.history['val_accuracy'])\n",
    "\n",
    "#Loss \n",
    "\n",
    "print(\"########################   Loss  #########################\\n\\n\")\n",
    "plt.figure()\n",
    "plt.xlabel('Epoch')\n",
    "plt.ylabel('Loss')\n",
    "plt.plot(history_DNN.history['loss'], color='green')\n",
    "plt.plot(history_DNN.history['val_loss'], color='blue')\n",
    "plt.legend(['Train', 'Test'], loc='upper right')\n",
    "plt.title('Loss', pad=-50)\n",
    "plt.show()\n",
    "\n",
    "# Accuracy\n",
    "\n",
    "print(\"########################   Accuracy  #########################\\n\\n\")\n",
    "plt.figure()\n",
    "plt.plot(history_DNN.history['accuracy'], color='green')\n",
    "plt.plot(history_DNN.history['val_accuracy'], color='blue')\n",
    "plt.title('Accuracy', pad=-75)\n",
    "plt.xlabel('Epoch')\n",
    "plt.ylabel('Accuracy')\n",
    "plt.legend(['Train', 'Test'], loc='lower right')\n",
    "\n",
    "plt.show()"
   ]
  },
  {
   "cell_type": "code",
   "execution_count": 48,
   "id": "d951e7aa",
   "metadata": {},
   "outputs": [
    {
     "name": "stdout",
     "output_type": "stream",
     "text": [
      "              precision    recall  f1-score   support\n",
      "\n",
      "           0       0.40      0.16      0.23      1692\n",
      "           1       0.19      0.03      0.05      1226\n",
      "           2       0.47      0.20      0.29      1150\n",
      "           3       0.31      0.06      0.09      1069\n",
      "           4       0.00      0.00      0.00       122\n",
      "           5       0.00      0.00      0.00        45\n",
      "\n",
      "   micro avg       0.38      0.11      0.17      5304\n",
      "   macro avg       0.23      0.07      0.11      5304\n",
      "weighted avg       0.34      0.11      0.16      5304\n",
      " samples avg       0.11      0.11      0.11      5304\n",
      "\n"
     ]
    }
   ],
   "source": [
    "#Confusion matrix with the evaluation metrics like Precision, Recall and f1Score\n",
    "\n",
    "print(classification_report(y_test, predicted_output_DNN)) #with Rarest Terms tax2vec for full data and KG = True"
   ]
  },
  {
   "cell_type": "code",
   "execution_count": 185,
   "id": "0df9a68e",
   "metadata": {},
   "outputs": [
    {
     "name": "stdout",
     "output_type": "stream",
     "text": [
      "              precision    recall  f1-score   support\n",
      "\n",
      "           0       0.42      0.12      0.19      1692\n",
      "           1       0.18      0.02      0.03      1226\n",
      "           2       0.46      0.15      0.23      1150\n",
      "           3       0.27      0.04      0.07      1069\n",
      "           4       0.00      0.00      0.00       122\n",
      "           5       0.00      0.00      0.00        45\n",
      "\n",
      "   micro avg       0.38      0.08      0.14      5304\n",
      "   macro avg       0.22      0.05      0.09      5304\n",
      "weighted avg       0.33      0.08      0.13      5304\n",
      " samples avg       0.08      0.08      0.08      5304\n",
      "\n"
     ]
    }
   ],
   "source": [
    "#Confusion matrix with the evaluation metrics like Precision, Recall and f1Score\n",
    "\n",
    "print(classification_report(y_test, predicted_output_DNN)) #without tax2vec"
   ]
  }
 ],
 "metadata": {
  "kernelspec": {
   "display_name": "Python 3",
   "language": "python",
   "name": "python3"
  },
  "language_info": {
   "codemirror_mode": {
    "name": "ipython",
    "version": 3
   },
   "file_extension": ".py",
   "mimetype": "text/x-python",
   "name": "python",
   "nbconvert_exporter": "python",
   "pygments_lexer": "ipython3",
   "version": "3.8.8"
  }
 },
 "nbformat": 4,
 "nbformat_minor": 5
}
